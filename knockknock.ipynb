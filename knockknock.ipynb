{
  "nbformat": 4,
  "nbformat_minor": 0,
  "metadata": {
    "colab": {
      "provenance": [],
      "authorship_tag": "ABX9TyONNn5RfxZWg+BYf418Jpx5",
      "include_colab_link": true
    },
    "kernelspec": {
      "name": "python3",
      "display_name": "Python 3"
    },
    "language_info": {
      "name": "python"
    }
  },
  "cells": [
    {
      "cell_type": "markdown",
      "metadata": {
        "id": "view-in-github",
        "colab_type": "text"
      },
      "source": [
        "<a href=\"https://colab.research.google.com/github/theJosephGoodman/AnotherAttemptOfAnalysis/blob/master/knockknock.ipynb\" target=\"_parent\"><img src=\"https://colab.research.google.com/assets/colab-badge.svg\" alt=\"Open In Colab\"/></a>"
      ]
    },
    {
      "cell_type": "code",
      "source": [
        "!pip install knockknock -q"
      ],
      "metadata": {
        "colab": {
          "base_uri": "https://localhost:8080/"
        },
        "id": "qgtGZIHW-tti",
        "outputId": "ae8aea57-f044-4217-f60b-cb50d25b3d16"
      },
      "execution_count": null,
      "outputs": [
        {
          "output_type": "stream",
          "name": "stdout",
          "text": [
            "\u001b[K     |████████████████████████████████| 514 kB 9.4 MB/s \n",
            "\u001b[K     |████████████████████████████████| 1.4 MB 40.2 MB/s \n",
            "\u001b[K     |████████████████████████████████| 43 kB 1.7 MB/s \n",
            "\u001b[K     |████████████████████████████████| 48 kB 4.8 MB/s \n",
            "\u001b[K     |████████████████████████████████| 4.0 MB 31.5 MB/s \n",
            "\u001b[K     |████████████████████████████████| 399 kB 44.9 MB/s \n",
            "\u001b[K     |████████████████████████████████| 58 kB 6.4 MB/s \n",
            "\u001b[K     |████████████████████████████████| 428 kB 45.5 MB/s \n",
            "\u001b[31mERROR: pip's dependency resolver does not currently take into account all the packages that are installed. This behaviour is the source of the following dependency conflicts.\n",
            "google-colab 1.0.0 requires tornado~=5.1.0, but you have tornado 6.1 which is incompatible.\u001b[0m\n",
            "\u001b[?25h"
          ]
        }
      ]
    },
    {
      "cell_type": "code",
      "source": [
        "from sklearn.datasets import make_regression\n",
        "from sklearn.linear_model import LinearRegression\n",
        "import matplotlib.pyplot as plt\n",
        "import time "
      ],
      "metadata": {
        "id": "04XetiL0CqH9"
      },
      "execution_count": null,
      "outputs": []
    },
    {
      "cell_type": "code",
      "execution_count": null,
      "metadata": {
        "id": "q-JWSxNi-n3Z"
      },
      "outputs": [],
      "source": [
        "from knockknock import telegram_sender"
      ]
    },
    {
      "cell_type": "code",
      "source": [
        "TOKEN = '5636488494:AAFhagzlP88Zml_jinrO3XZzXVSp2CaxHvk'\n",
        "CHAT_ID = '337205990'"
      ],
      "metadata": {
        "id": "09EizR06-zBo"
      },
      "execution_count": null,
      "outputs": []
    },
    {
      "cell_type": "code",
      "source": [
        "@telegram_sender(token = TOKEN, chat_id = CHAT_ID)\n",
        "def salam():\n",
        "    return 'Привет брательник'"
      ],
      "metadata": {
        "id": "97Efk1k-AQqM"
      },
      "execution_count": null,
      "outputs": []
    },
    {
      "cell_type": "code",
      "source": [
        "salam()"
      ],
      "metadata": {
        "colab": {
          "base_uri": "https://localhost:8080/",
          "height": 35
        },
        "id": "KtXBHF16APge",
        "outputId": "c0a3a4f7-db57-4f07-eab5-8cfb029b053c"
      },
      "execution_count": null,
      "outputs": [
        {
          "output_type": "execute_result",
          "data": {
            "text/plain": [
              "'Привет брательник'"
            ],
            "application/vnd.google.colaboratory.intrinsic+json": {
              "type": "string"
            }
          },
          "metadata": {},
          "execution_count": 10
        }
      ]
    },
    {
      "cell_type": "code",
      "source": [
        "X, y = make_regression(n_samples= 10000, n_features=4, n_informative=40)"
      ],
      "metadata": {
        "id": "eMy2TJ4hC7Fg"
      },
      "execution_count": null,
      "outputs": []
    },
    {
      "cell_type": "code",
      "source": [
        "plt.scatter(X[:, 1], y)"
      ],
      "metadata": {
        "colab": {
          "base_uri": "https://localhost:8080/",
          "height": 282
        },
        "id": "vyiNk7gaDGLP",
        "outputId": "4547d3bf-edfd-438a-a7c9-8e573808bf2c"
      },
      "execution_count": null,
      "outputs": [
        {
          "output_type": "execute_result",
          "data": {
            "text/plain": [
              "<matplotlib.collections.PathCollection at 0x7fea5f782bd0>"
            ]
          },
          "metadata": {},
          "execution_count": 34
        },
        {
          "output_type": "display_data",
          "data": {
            "text/plain": [
              "<Figure size 432x288 with 1 Axes>"
            ],
            "image/png": "[encoded data removed]"
          },
          "metadata": {
            "needs_background": "light"
          }
        }
      ]
    },
    {
      "cell_type": "code",
      "source": [
        "linreg = LinearRegression()\n",
        "@telegram_sender(token = TOKEN, chat_id = CHAT_ID)\n",
        "def learning(fn):\n",
        "    return fn\n",
        "\n",
        "\n",
        "# learning(linreg.fit(X,y))\n",
        "# def foo():    \n",
        "#     for i in range(40):\n",
        "#         print(i)\n",
        "#         time.sleep(4)\n",
        "\n",
        "def foo():\n",
        "    return 0"
      ],
      "metadata": {
        "id": "o_RKAqfjDd5A"
      },
      "execution_count": null,
      "outputs": []
    },
    {
      "cell_type": "code",
      "source": [
        "learning(foo())"
      ],
      "metadata": {
        "colab": {
          "base_uri": "https://localhost:8080/"
        },
        "id": "gejMSEZuDyHY",
        "outputId": "26c8802e-223d-405f-982e-496f69a4c8cf"
      },
      "execution_count": null,
      "outputs": [
        {
          "output_type": "execute_result",
          "data": {
            "text/plain": [
              "0"
            ]
          },
          "metadata": {},
          "execution_count": 46
        }
      ]
    },
    {
      "cell_type": "code",
      "source": [
        "!git init"
      ],
      "metadata": {
        "id": "CvQJY7y0EVdy",
        "colab": {
          "base_uri": "https://localhost:8080/"
        },
        "outputId": "1b6a04c1-497f-4b0a-fd38-d6eef5c17701"
      },
      "execution_count": null,
      "outputs": [
        {
          "output_type": "stream",
          "name": "stdout",
          "text": [
            "Initialized empty Git repository in /content/.git/\n"
          ]
        }
      ]
    },
    {
      "cell_type": "code",
      "source": [
        "!git add ."
      ],
      "metadata": {
        "id": "DmdiB7pSFuQj"
      },
      "execution_count": null,
      "outputs": []
    },
    {
      "cell_type": "code",
      "source": [
        "!git remote add origin https://github.com/theJosephGoodman/cheetsheet_knockknock.git"
      ],
      "metadata": {
        "id": "1kpIQfc3F7jJ"
      },
      "execution_count": null,
      "outputs": []
    },
    {
      "cell_type": "code",
      "source": [
        "!git branch -M main"
      ],
      "metadata": {
        "colab": {
          "base_uri": "https://localhost:8080/"
        },
        "id": "iQZateahGQvl",
        "outputId": "affef240-d020-48a1-e9b3-4dfede4b9ce0"
      },
      "execution_count": null,
      "outputs": [
        {
          "output_type": "stream",
          "name": "stdout",
          "text": [
            "error: refname refs/heads/master not found\n",
            "fatal: Branch rename failed\n"
          ]
        }
      ]
    },
    {
      "cell_type": "code",
      "source": [
        "!git commit -m 'first commit'"
      ],
      "metadata": {
        "colab": {
          "base_uri": "https://localhost:8080/"
        },
        "id": "IRXGn92MGSVT",
        "outputId": "a9da8ec7-9935-4e64-88d2-2bb6352b4534"
      },
      "execution_count": null,
      "outputs": [
        {
          "output_type": "stream",
          "name": "stdout",
          "text": [
            "On branch master\n",
            "\n",
            "Initial commit\n",
            "\n",
            "Untracked files:\n",
            "\t\u001b[31m.config/\u001b[m\n",
            "\t\u001b[31msample_data/\u001b[m\n",
            "\n",
            "nothing added to commit but untracked files present\n"
          ]
        }
      ]
    },
    {
      "cell_type": "code",
      "source": [
        "!git config --global user.email \"lolaev321@gmail.com\"\n",
        "!git config --global user.name \"theJosephGoodman\""
      ],
      "metadata": {
        "id": "1DwsZeofGaIu"
      },
      "execution_count": null,
      "outputs": []
    },
    {
      "cell_type": "code",
      "source": [],
      "metadata": {
        "id": "qmV4cxosGk4v"
      },
      "execution_count": null,
      "outputs": []
    }
  ]
}